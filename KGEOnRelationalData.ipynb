{
 "cells": [
  {
   "cell_type": "markdown",
   "metadata": {},
   "source": [
    "# Introduction\n",
    "\n",
    "We aim to apply knowledge graph embedding/completion approaches on a Tabular data. To this end, we have the following plan:\n",
    "\n",
    "1. Convert a tabular data into a knowledge graph.\n",
    "2. Apply some knowledge graph embedding appraoches --including Pyke, Distmult.\n",
    "3. Evaluate the quality of newly learned vector representations.\n",
    "\n",
    "We assume that reader throughly understand the following papers [1,2].\n"
   ]
  },
  {
   "cell_type": "markdown",
   "metadata": {},
   "source": [
    "# Preliminaies\n",
    "\n",
    "### Input Data definition\n",
    "\n",
    "Let $ A: a \\times b$  and $ A \\in P$ be a matrix representing an input data, where $P$ represents a vector space that subsumes \n",
    "\n",
    "1. $\\mathbb{R}$,\n",
    "2. empty values (NaN),\n",
    "3. time (date-time),\n",
    "4. sequence of characters.\n",
    "\n",
    "Note that, I do not know how to matematically define NaN, time,\n",
    "sequence of characters that may include numerical values.\n",
    "\n",
    "\n",
    "### Input Data Indexing\n",
    "\n",
    "In this work, $A[i][j]$  denotes the $i.th$ row and $j.th$ columns\n",
    "while $A[i][:]$ denotes $i-th$ row and all columns, i.e., \n",
    "$|A[i][:]|=b$. Similarly, $A[:][j]$ denotes all rows and the $j-th$ column, i.e., $|A[:][j]|=b$."
   ]
  },
  {
   "cell_type": "markdown",
   "metadata": {},
   "source": [
    "# Problem definition\n",
    "\n",
    "\n",
    "We would like to convert $A$ into a knowledge graph $K$ as defined in [1,2]. To this end,we propose the following function:\n",
    "$$ T: P \\mapsto D$$, where D denotes the all possible (hence infinite) RDF knowledge graphs. Expectedly, $T$ is a composition of several another functions\n",
    "\n",
    "$$T: \\phi \\circ G \\circ F_{c,d} \\circ E(A).$$\n",
    "\n",
    "We elucidate $T$ in the following steps:\n",
    "\n",
    "1. $E$ only adds **EVENT_** prefix into $A[:][1]$.\n",
    "\n",
    "\n",
    "2. $F$ generates new columns by applying Quantile-based discretization function with **d** number of discretization all columns that \n",
    "    \n",
    "    1. are numeric,\n",
    "\n",
    "    2. have at least **c** number of unique values, i.e. $|set(A[:][j])|>= c$.\n",
    "    \n",
    "3. $ F_{c,d} \\circ E(A)$ transforms the input A into $TransformedA: a \\times e$ where $e>b$.\n",
    "    \n",
    "    \n",
    "4. $G$ fills NaN values in $A[:][j]$ by adding **suffix** of **j_dummy**. \n",
    "\n",
    "\n",
    "5. Hence, we now have $a \\times e$ numbers of triples.\n",
    "\n",
    "6. Finally $\\phi$ denotes selected knowledge graph embedding / completion approach. We omit the details of $\\phi$."
   ]
  },
  {
   "cell_type": "markdown",
   "metadata": {},
   "source": [
    "# Evaluation of the embeddings\n",
    "\n",
    "\n",
    "[1,2] shows that we have severals metrics quantifiying the quality of learned vector representations. We have\n",
    "\n",
    "1. We have head, relation and tail link predictions [2].\n",
    "\n",
    "2. We have type prediction and cluster purity [1].\n",
    "\n",
    "Note that I would claim that tail prediction (given subject and predicate, predict) indirectly subsumes type prediction. However, in [1], it is stated that subjects/entities can have several type information and this observation included in the evaluation wherease such observation is not stated/omitted/ignored etc. in [2]."
   ]
  },
  {
   "cell_type": "markdown",
   "metadata": {},
   "source": [
    "## Let's apply DistMult on tabular/relational formatted data.\n",
    "\n",
    "The followings are represented due to illustration purposes. Consequently, we focused on only the top $10^4$ rows on the given $AA."
   ]
  },
  {
   "cell_type": "code",
   "execution_count": null,
   "metadata": {},
   "outputs": [],
   "source": [
    "import argparse\n",
    "import pandas as pd\n",
    "from sklearn.preprocessing import FunctionTransformer\n",
    "from sklearn.pipeline import Pipeline\n",
    "from vectograph.utils import ignore_columns, create_experiment_folder, create_logger\n",
    "from vectograph.helper_funcs import apply_PYKE\n",
    "from vectograph.transformers import RDFGraphCreator, KGCreator, ApplyKGE, TypePrediction, ClusterPurity\n",
    "import time\n",
    "import warnings\n",
    "warnings.filterwarnings(\"ignore\")"
   ]
  },
  {
   "cell_type": "code",
   "execution_count": null,
   "metadata": {},
   "outputs": [],
   "source": [
    "tabularpath='/home/demir/Desktop/ai4bd-smart-logistics/2020-06-26-ai4bd-smart-logistics/merged.csv'\n",
    "\n",
    "num_of_quantiles=40\n",
    "min_num_of_unique_values_per_col=20\n",
    "consider_only_to_N_rows=1_000\n",
    "params = {\n",
    "    'model': 'Distmult',\n",
    "    'embedding_dim': 50,\n",
    "    'num_iterations': 200,\n",
    "    'batch_size': 256,\n",
    "    'learning_rate': 0.005,\n",
    "    'input_dropout': .1}\n"
   ]
  },
  {
   "cell_type": "code",
   "execution_count": null,
   "metadata": {},
   "outputs": [],
   "source": [
    "\n",
    "storage_path, _ = create_experiment_folder()\n",
    "logger = create_logger(name='Vectograph', p=storage_path)\n",
    "\n",
    "# DASK can be applied.\n",
    "df = pd.read_csv(tabularpath, low_memory=False).head(consider_only_to_N_rows)\n",
    "df.index = 'Event_' + df.index.astype(str)\n",
    "\n",
    "num_rows, num_cols = df.shape  # at max num_rows times num_cols columns.\n",
    "column_names = df.columns\n",
    "\n",
    "logger.info('Original Tabular data: {0} by {1}'.format(num_rows, num_cols))\n",
    "logger.info('Quantisation starts')\n",
    "\n",
    "for col in df.select_dtypes(exclude='object').columns:\n",
    "    if len(df[col].unique()) >= min_num_of_unique_values_per_col:\n",
    "        label_names = [col + '_quantile_' + str(i) for i in range(num_of_quantiles)]\n",
    "        df.loc[:, col + '_range'] = pd.qcut(df[col].rank(method='first'), num_of_quantiles, labels=label_names)\n",
    "\n",
    "new_num_rows, new_num_cols = df.shape  # at max num_rows times num_cols columns.\n",
    "\n",
    "logger.info('Tabular data after conversion: {0} by {1}'.format(new_num_rows, new_num_cols))\n",
    "\n",
    "params.update({'storage_path': storage_path,\n",
    "               'logger': logger})\n",
    "\n",
    "pipe = Pipeline([('createkg', KGCreator(path=storage_path,logger=logger)),\n",
    "                 ('embeddings', ApplyKGE(params=params)),\n",
    "                 ('typeprediction', TypePrediction()),\n",
    "                 ('clusterpruity', ClusterPurity())\n",
    "                 ])\n",
    "\n",
    "pipe.fit_transform(df)\n"
   ]
  },
  {
   "cell_type": "markdown",
   "metadata": {},
   "source": [
    "# References\n",
    "\n",
    "+ [1] A Physical Embedding Model for Knowledge Graphs: https://arxiv.org/abs/2001.07418\n",
    "+ [2] TuckER: Tensor Factorization for Knowledge Graph Completion: https://arxiv.org/pdf/1901.09590.pdf"
   ]
  }
 ],
 "metadata": {
  "kernelspec": {
   "display_name": "Python (vecto)",
   "language": "python",
   "name": "shallom"
  },
  "language_info": {
   "codemirror_mode": {
    "name": "ipython",
    "version": 3
   },
   "file_extension": ".py",
   "mimetype": "text/x-python",
   "name": "python",
   "nbconvert_exporter": "python",
   "pygments_lexer": "ipython3",
   "version": "3.6.10"
  }
 },
 "nbformat": 4,
 "nbformat_minor": 4
}
